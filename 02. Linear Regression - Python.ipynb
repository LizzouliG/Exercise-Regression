{
  "nbformat": 4,
  "nbformat_minor": 0,
  "metadata": {
    "kernelspec": {
      "name": "python36",
      "display_name": "Python 3.6",
      "language": "python"
    },
    "language_info": {
      "mimetype": "text/x-python",
      "nbconvert_exporter": "python",
      "name": "python",
      "pygments_lexer": "ipython3",
      "version": "3.6.6",
      "file_extension": ".py",
      "codemirror_mode": {
        "version": 3,
        "name": "ipython"
      }
    },
    "colab": {
      "name": "02. Linear Regression - Python.ipynb",
      "provenance": [],
      "include_colab_link": true
    }
  },
  "cells": [
    {
      "cell_type": "markdown",
      "metadata": {
        "id": "view-in-github",
        "colab_type": "text"
      },
      "source": [
        "<a href=\"https://colab.research.google.com/github/LizzouliG/Exercise-Regression/blob/main/02.%20Linear%20Regression%20-%20Python.ipynb\" target=\"_parent\"><img src=\"https://colab.research.google.com/assets/colab-badge.svg\" alt=\"Open In Colab\"/></a>"
      ]
    },
    {
      "cell_type": "markdown",
      "metadata": {
        "collapsed": true,
        "id": "mSDWu8FcVD3X"
      },
      "source": [
        "Exercise 2 - Simple Linear Regression\n",
        "=====================\n",
        "\n",
        "We want to know how to make our chocolate-bar customers happier. To do this, we need to know which chocolate bar _features_ predict customer happiness. For example, customers may be happier when chocolate bars are bigger, or when they contain more cocoa. \n",
        "\n",
        "We have data on customer happiness when eating chocolate bars with different features. Lets look at the relationship between happiness and bar size.\n",
        "\n",
        "Step 1\n",
        "--\n",
        "\n",
        "First, lets have a look at our data.\n",
        "\n",
        "#### In the cell below replace the text `<printDataHere>` with `print(dataset.head())` and then press __Run__ in the toolbar above (or press __Shift+Enter__)."
      ]
    },
    {
      "cell_type": "code",
      "metadata": {
        "id": "j2qbbgPWVbB9",
        "outputId": "4f9c1b85-eced-47a1-e3f8-a3e88109a632",
        "colab": {
          "base_uri": "https://localhost:8080/",
          "height": 35
        }
      },
      "source": [
        "from google.colab import drive\n",
        "drive.mount('/content/drive')"
      ],
      "execution_count": 2,
      "outputs": [
        {
          "output_type": "stream",
          "text": [
            "Mounted at /content/drive\n"
          ],
          "name": "stdout"
        }
      ]
    },
    {
      "cell_type": "code",
      "metadata": {
        "scrolled": true,
        "trusted": true,
        "id": "fmoJdFFiVD3g",
        "outputId": "1bf368c6-2c18-41f9-a4ee-0f251bf4c630",
        "colab": {
          "base_uri": "https://localhost:8080/",
          "height": 124
        }
      },
      "source": [
        "import warnings\n",
        "warnings.filterwarnings(\"ignore\")\n",
        "import pandas as pd\n",
        "import matplotlib.pyplot as graph\n",
        "import statsmodels.formula.api as smf\n",
        "from scipy import stats\n",
        "\n",
        "dataset = pd.read_csv('/content/drive/My Drive/Collab books/Data/chocolate data.txt', index_col=False, sep=\"\\t\",header=0)\n",
        "    \n",
        "###\n",
        "# REPLACE <PrintDataHere> WITH print(dataset.head())\n",
        "###\n",
        "print(dataset.head())\n",
        "###"
      ],
      "execution_count": 3,
      "outputs": [
        {
          "output_type": "stream",
          "text": [
            "   weight  cocoa_percent  sugar_percent  milk_percent  customer_happiness\n",
            "0     185             65             11            24                  47\n",
            "1     247             44             34            22                  55\n",
            "2     133             33             21            47                  35\n",
            "3     145             30             38            32                  34\n",
            "4     110             22             70             7                  40\n"
          ],
          "name": "stdout"
        }
      ]
    },
    {
      "cell_type": "markdown",
      "metadata": {
        "id": "1Q9ky8gKVD4a"
      },
      "source": [
        "The data represents 100 different variations of chocolate bars and the measured customer happiness for each one. \n",
        "\n",
        "Step 2\n",
        "--\n",
        "\n",
        "We want to know which chocolate bar features make customers happy.\n",
        "\n",
        "The example below shows a linear regression between __cocoa percentage__ and __happiness__. You can read through the comments to understand what is happening. \n",
        "\n",
        "#### __Run the code__ to to see the output visualized."
      ]
    },
    {
      "cell_type": "code",
      "metadata": {
        "trusted": true,
        "id": "ZprtnFu-VD4u",
        "outputId": "dd2f0858-db75-4a03-df7d-88bf55f7dd17",
        "colab": {
          "base_uri": "https://localhost:8080/",
          "height": 280
        }
      },
      "source": [
        "# Run this cell!\n",
        "\n",
        "# DO NOT EDIT ANY OF THIS CODE\n",
        "\n",
        "# Define a function to perform a linear regression\n",
        "def PerformLinearRegression(formula):\n",
        "\n",
        "    # This performs linear regression\n",
        "    lm = smf.ols(formula = formula, data = dataset).fit()\n",
        "\n",
        "    featureName=formula.split(\" \")[-1]\n",
        "    \n",
        "    # get the data for the x parameter (our feature)\n",
        "    train_X=dataset[featureName]\n",
        "    \n",
        "    # This makes and shows a graph\n",
        "    intercept=lm.params[0]\n",
        "    slope=lm.params[1]\n",
        "    line = slope * train_X + intercept\n",
        "    graph.plot(train_X, line, '-', c = 'red')\n",
        "    graph.scatter(train_X, dataset.customer_happiness)\n",
        "    graph.ylabel('customer_happiness')\n",
        "    graph.xlabel(featureName)\n",
        "    graph.show()\n",
        "\n",
        "# This performs the linear regression steps listed above\n",
        "# The text in red is the formula for our regression\n",
        "PerformLinearRegression('customer_happiness ~ cocoa_percent')"
      ],
      "execution_count": 4,
      "outputs": [
        {
          "output_type": "display_data",
          "data": {
            "image/png": "[encoded data removed]",
            "text/plain": [
              "<Figure size 432x288 with 1 Axes>"
            ]
          },
          "metadata": {
            "tags": [],
            "needs_background": "light"
          }
        }
      ]
    },
    {
      "cell_type": "markdown",
      "metadata": {
        "id": "6ASMWMUKVD5b"
      },
      "source": [
        "In the scatter plot above, each point represents an observation for a single chocolate bar.\n",
        "\n",
        "It seems that __more cocoa makes customers more happy__. We can tell, because as we increase the amount of cocoa (x axis) the amount of customer happiness (y axis) increases. \n",
        "\n",
        "Step 3\n",
        "------\n",
        "\n",
        "Let's look at some other features.\n",
        "\n",
        "#### Below, replace the text `<addFeatureHere>` with __`weight`__ to see if heavier chocolate bars make people happier.\n",
        "\n",
        "Also try the variables `sugar_percent` and  `milk_percent` to see if these improve customers' experiences."
      ]
    },
    {
      "cell_type": "code",
      "metadata": {
        "trusted": true,
        "id": "ZPkipwMTVD5l",
        "outputId": "6cf0233e-1967-4e75-979c-b3da34bce686",
        "colab": {
          "base_uri": "https://localhost:8080/",
          "height": 280
        }
      },
      "source": [
        "###\n",
        "# CHANGE <addFeatureHere> TO weight IN THE LINE BELOW\n",
        "###\n",
        "PerformLinearRegression('customer_happiness ~ milk_percent')\n",
        "###"
      ],
      "execution_count": 7,
      "outputs": [
        {
          "output_type": "display_data",
          "data": {
            "image/png": "[encoded data removed]",
            "text/plain": [
              "<Figure size 432x288 with 1 Axes>"
            ]
          },
          "metadata": {
            "tags": [],
            "needs_background": "light"
          }
        }
      ]
    },
    {
      "cell_type": "markdown",
      "metadata": {
        "id": "yeyFW1gzVD6N"
      },
      "source": [
        "It looks like heavier chocolate bars make customers happier. The amount of milk or sugar, however, don't seem to make customers happier. \n",
        "\n",
        "Conclusion\n",
        "---\n",
        "You have run a simple linear regression. This told us that if we want to make a chocolate bar that will make customers happy, it should be large and contain a lot of cocoa.\n",
        "\n",
        "Well done! You can now go back to the course and click __'Next Step'__ to move onto using linear regression with multiple features."
      ]
    }
  ]
}